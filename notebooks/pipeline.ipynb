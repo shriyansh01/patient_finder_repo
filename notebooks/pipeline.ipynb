{
 "cells": [
  {
   "cell_type": "code",
   "execution_count": 1,
   "id": "b6282018-90be-4d89-b9f2-eef73964e438",
   "metadata": {},
   "outputs": [
    {
     "name": "stdout",
     "output_type": "stream",
     "text": [
      " Volume in drive C is Windows\n",
      " Volume Serial Number is 6CF6-BC6B\n",
      "\n",
      " Directory of C:\\Users\\SatyamKumar\\OneDrive - Chryselys Services Private Limited\\Desktop\\Patient FInder ACCELERATOR\\patient-finder\\notebooks\n",
      "\n",
      "19-08-2025  15:59    <DIR>          .\n",
      "19-08-2025  15:28    <DIR>          ..\n",
      "19-08-2025  15:00                 0 .gitkeep\n",
      "19-08-2025  15:59    <DIR>          .ipynb_checkpoints\n",
      "19-08-2025  15:59               337 pipeline.ipynb\n",
      "               2 File(s)            337 bytes\n",
      "               3 Dir(s)  326,529,843,200 bytes free\n"
     ]
    }
   ],
   "source": [
    "ls"
   ]
  },
  {
   "cell_type": "code",
   "execution_count": 4,
   "id": "df899428-8cc7-40d2-a24e-cb78fb83ac1a",
   "metadata": {},
   "outputs": [
    {
     "name": "stdout",
     "output_type": "stream",
     "text": [
      "conf\n",
      "data\n",
      "docs\n",
      "info.log\n",
      "notebooks\n",
      "pyproject.toml\n",
      "README.md\n",
      "requirements.txt\n",
      "src\n",
      "tests\n"
     ]
    }
   ],
   "source": [
    "! ls ../\n"
   ]
  },
  {
   "cell_type": "code",
   "execution_count": 5,
   "id": "6d45e550-55ff-4d77-92bc-502ae926a910",
   "metadata": {},
   "outputs": [
    {
     "data": {
      "text/html": [
       "<pre style=\"white-space:pre;overflow-x:auto;line-height:normal;font-family:Menlo,'DejaVu Sans Mono',consolas,'Courier New',monospace\"><span style=\"color: #7fbfbf; text-decoration-color: #7fbfbf\">[08/19/25 16:00:29] </span><span style=\"color: #808000; text-decoration-color: #808000\">WARNING </span> C:\\Users\\SatyamKumar\\OneDrive - Chryselys Services Private             <span style=\"color: #7f7f7f; text-decoration-color: #7f7f7f\">warnings.py:112</span>\n",
       "<span style=\"color: #7fbfbf; text-decoration-color: #7fbfbf\">                    </span>         Limited\\Desktop\\Patient FInder                                         <span style=\"color: #7f7f7f; text-decoration-color: #7f7f7f\">               </span>\n",
       "<span style=\"color: #7fbfbf; text-decoration-color: #7fbfbf\">                    </span>         ACCELERATOR\\.venv\\Lib\\site-packages\\IPython\\core\\magics\\osm.py:<span style=\"color: #008080; text-decoration-color: #008080; font-weight: bold\">417</span>:    <span style=\"color: #7f7f7f; text-decoration-color: #7f7f7f\">               </span>\n",
       "<span style=\"color: #7fbfbf; text-decoration-color: #7fbfbf\">                    </span>         UserWarning: This is now an optional IPython functionality, setting    <span style=\"color: #7f7f7f; text-decoration-color: #7f7f7f\">               </span>\n",
       "<span style=\"color: #7fbfbf; text-decoration-color: #7fbfbf\">                    </span>         dhist requires you to install the `pickleshare` library.               <span style=\"color: #7f7f7f; text-decoration-color: #7f7f7f\">               </span>\n",
       "<span style=\"color: #7fbfbf; text-decoration-color: #7fbfbf\">                    </span>           self.shell.db<span style=\"font-weight: bold\">[</span><span style=\"color: #008000; text-decoration-color: #008000\">'dhist'</span><span style=\"font-weight: bold\">]</span> = <span style=\"color: #800080; text-decoration-color: #800080; font-weight: bold\">compress_dhist</span><span style=\"font-weight: bold\">(</span>dhist<span style=\"font-weight: bold\">)[</span><span style=\"color: #008080; text-decoration-color: #008080; font-weight: bold\">-100</span>:<span style=\"font-weight: bold\">]</span>                <span style=\"color: #7f7f7f; text-decoration-color: #7f7f7f\">               </span>\n",
       "<span style=\"color: #7fbfbf; text-decoration-color: #7fbfbf\">                    </span>                                                                                <span style=\"color: #7f7f7f; text-decoration-color: #7f7f7f\">               </span>\n",
       "</pre>\n"
      ],
      "text/plain": [
       "\u001b[2;36m[08/19/25 16:00:29]\u001b[0m\u001b[2;36m \u001b[0m\u001b[33mWARNING \u001b[0m C:\\Users\\SatyamKumar\\OneDrive - Chryselys Services Private             \u001b[2mwarnings.py\u001b[0m\u001b[2m:\u001b[0m\u001b[2m112\u001b[0m\n",
       "\u001b[2;36m                    \u001b[0m         Limited\\Desktop\\Patient FInder                                         \u001b[2m               \u001b[0m\n",
       "\u001b[2;36m                    \u001b[0m         ACCELERATOR\\.venv\\Lib\\site-packages\\IPython\\core\\magics\\osm.py:\u001b[1;36m417\u001b[0m:    \u001b[2m               \u001b[0m\n",
       "\u001b[2;36m                    \u001b[0m         UserWarning: This is now an optional IPython functionality, setting    \u001b[2m               \u001b[0m\n",
       "\u001b[2;36m                    \u001b[0m         dhist requires you to install the `pickleshare` library.               \u001b[2m               \u001b[0m\n",
       "\u001b[2;36m                    \u001b[0m           self.shell.db\u001b[1m[\u001b[0m\u001b[32m'dhist'\u001b[0m\u001b[1m]\u001b[0m = \u001b[1;35mcompress_dhist\u001b[0m\u001b[1m(\u001b[0mdhist\u001b[1m)\u001b[0m\u001b[1m[\u001b[0m\u001b[1;36m-100\u001b[0m:\u001b[1m]\u001b[0m                \u001b[2m               \u001b[0m\n",
       "\u001b[2;36m                    \u001b[0m                                                                                \u001b[2m               \u001b[0m\n"
      ]
     },
     "metadata": {},
     "output_type": "display_data"
    },
    {
     "name": "stdout",
     "output_type": "stream",
     "text": [
      "C:\\Users\\SatyamKumar\\OneDrive - Chryselys Services Private Limited\\Desktop\\Patient FInder ACCELERATOR\\patient-finder\n"
     ]
    }
   ],
   "source": [
    "%cd .."
   ]
  }
 ],
 "metadata": {
  "kernelspec": {
   "display_name": "Kedro (patient_finder)",
   "language": "python",
   "name": "kedro_patient_finder"
  },
  "language_info": {
   "codemirror_mode": {
    "name": "ipython",
    "version": 3
   },
   "file_extension": ".py",
   "mimetype": "text/x-python",
   "name": "python",
   "nbconvert_exporter": "python",
   "pygments_lexer": "ipython3",
   "version": "3.12.10"
  }
 },
 "nbformat": 4,
 "nbformat_minor": 5
}
